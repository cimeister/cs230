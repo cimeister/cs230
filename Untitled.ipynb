{
 "cells": [
  {
   "cell_type": "code",
   "execution_count": 1,
   "metadata": {
    "collapsed": true
   },
   "outputs": [],
   "source": [
    "import pandas as pd\n",
    "import unidecode\n",
    "import re\n",
    "#unaccented_string = unidecode.unidecode(accented_string)"
   ]
  },
  {
   "cell_type": "code",
   "execution_count": 101,
   "metadata": {},
   "outputs": [],
   "source": [
    "data = pd.read_csv(\"data/winemag-data-130k-v2.csv\", encoding='utf-8')\n",
    "data.drop([data.columns[0], 'designation', 'taster_twitter_handle'], axis=1, inplace=True)"
   ]
  },
  {
   "cell_type": "code",
   "execution_count": 102,
   "metadata": {},
   "outputs": [],
   "source": [
    "def func(x):\n",
    "    try: \n",
    "        return unidecode.unidecode(x).lower() \n",
    "    except: \n",
    "        return x\n",
    "for col in data.columns:\n",
    "    data[col] = data[col].apply(func)\n",
    "data['description'] = data['description'].apply(lambda(x): re.sub(\"[^a-zA-Z ]\",\"\", re.sub(\"-\", \" \", x)))"
   ]
  },
  {
   "cell_type": "code",
   "execution_count": 104,
   "metadata": {},
   "outputs": [],
   "source": [
    "chosen = list(data['variety'].value_counts()[0:30].index)\n",
    "def label_row(row):\n",
    "    if row['variety'] in chosen:\n",
    "        return row['variety']\n",
    "    return 'other'\n",
    "data['y_variety'] = data.apply (lambda row: label_row(row),axis=1)\n",
    "chosen = list(data['province'].value_counts()[0:30].index)\n",
    "def label_row(row):\n",
    "    if row['province'] in chosen:\n",
    "        return row['province']\n",
    "    return 'other'\n",
    "data['y_province'] = data.apply (lambda row: label_row(row),axis=1)"
   ]
  },
  {
   "cell_type": "code",
   "execution_count": 106,
   "metadata": {},
   "outputs": [
    {
     "data": {
      "text/html": [
       "<div>\n",
       "<style>\n",
       "    .dataframe thead tr:only-child th {\n",
       "        text-align: right;\n",
       "    }\n",
       "\n",
       "    .dataframe thead th {\n",
       "        text-align: left;\n",
       "    }\n",
       "\n",
       "    .dataframe tbody tr th {\n",
       "        vertical-align: top;\n",
       "    }\n",
       "</style>\n",
       "<table border=\"1\" class=\"dataframe\">\n",
       "  <thead>\n",
       "    <tr style=\"text-align: right;\">\n",
       "      <th></th>\n",
       "      <th>country</th>\n",
       "      <th>description</th>\n",
       "      <th>points</th>\n",
       "      <th>price</th>\n",
       "      <th>province</th>\n",
       "      <th>region_1</th>\n",
       "      <th>region_2</th>\n",
       "      <th>taster_name</th>\n",
       "      <th>title</th>\n",
       "      <th>variety</th>\n",
       "      <th>winery</th>\n",
       "      <th>y_variety</th>\n",
       "      <th>y_province</th>\n",
       "    </tr>\n",
       "  </thead>\n",
       "  <tbody>\n",
       "    <tr>\n",
       "      <th>0</th>\n",
       "      <td>italy</td>\n",
       "      <td>aromas include tropical fruit broom brimstone ...</td>\n",
       "      <td>87</td>\n",
       "      <td>NaN</td>\n",
       "      <td>sicily &amp; sardinia</td>\n",
       "      <td>etna</td>\n",
       "      <td>NaN</td>\n",
       "      <td>kerin o'keefe</td>\n",
       "      <td>nicosia 2013 vulka bianco  (etna)</td>\n",
       "      <td>white blend</td>\n",
       "      <td>nicosia</td>\n",
       "      <td>white blend</td>\n",
       "      <td>sicily &amp; sardinia</td>\n",
       "    </tr>\n",
       "    <tr>\n",
       "      <th>1</th>\n",
       "      <td>portugal</td>\n",
       "      <td>this is ripe and fruity a wine that is smooth ...</td>\n",
       "      <td>87</td>\n",
       "      <td>15.0</td>\n",
       "      <td>douro</td>\n",
       "      <td>NaN</td>\n",
       "      <td>NaN</td>\n",
       "      <td>roger voss</td>\n",
       "      <td>quinta dos avidagos 2011 avidagos red (douro)</td>\n",
       "      <td>portuguese red</td>\n",
       "      <td>quinta dos avidagos</td>\n",
       "      <td>portuguese red</td>\n",
       "      <td>douro</td>\n",
       "    </tr>\n",
       "    <tr>\n",
       "      <th>2</th>\n",
       "      <td>us</td>\n",
       "      <td>tart and snappy the flavors of lime flesh and ...</td>\n",
       "      <td>87</td>\n",
       "      <td>14.0</td>\n",
       "      <td>oregon</td>\n",
       "      <td>willamette valley</td>\n",
       "      <td>willamette valley</td>\n",
       "      <td>paul gregutt</td>\n",
       "      <td>rainstorm 2013 pinot gris (willamette valley)</td>\n",
       "      <td>pinot gris</td>\n",
       "      <td>rainstorm</td>\n",
       "      <td>pinot gris</td>\n",
       "      <td>oregon</td>\n",
       "    </tr>\n",
       "    <tr>\n",
       "      <th>3</th>\n",
       "      <td>us</td>\n",
       "      <td>pineapple rind lemon pith and orange blossom s...</td>\n",
       "      <td>87</td>\n",
       "      <td>13.0</td>\n",
       "      <td>michigan</td>\n",
       "      <td>lake michigan shore</td>\n",
       "      <td>NaN</td>\n",
       "      <td>alexander peartree</td>\n",
       "      <td>st. julian 2013 reserve late harvest riesling ...</td>\n",
       "      <td>riesling</td>\n",
       "      <td>st. julian</td>\n",
       "      <td>riesling</td>\n",
       "      <td>other</td>\n",
       "    </tr>\n",
       "    <tr>\n",
       "      <th>4</th>\n",
       "      <td>us</td>\n",
       "      <td>much like the regular bottling from  this come...</td>\n",
       "      <td>87</td>\n",
       "      <td>65.0</td>\n",
       "      <td>oregon</td>\n",
       "      <td>willamette valley</td>\n",
       "      <td>willamette valley</td>\n",
       "      <td>paul gregutt</td>\n",
       "      <td>sweet cheeks 2012 vintner's reserve wild child...</td>\n",
       "      <td>pinot noir</td>\n",
       "      <td>sweet cheeks</td>\n",
       "      <td>pinot noir</td>\n",
       "      <td>oregon</td>\n",
       "    </tr>\n",
       "  </tbody>\n",
       "</table>\n",
       "</div>"
      ],
      "text/plain": [
       "    country                                        description  points  price  \\\n",
       "0     italy  aromas include tropical fruit broom brimstone ...      87    NaN   \n",
       "1  portugal  this is ripe and fruity a wine that is smooth ...      87   15.0   \n",
       "2        us  tart and snappy the flavors of lime flesh and ...      87   14.0   \n",
       "3        us  pineapple rind lemon pith and orange blossom s...      87   13.0   \n",
       "4        us  much like the regular bottling from  this come...      87   65.0   \n",
       "\n",
       "            province             region_1           region_2  \\\n",
       "0  sicily & sardinia                 etna                NaN   \n",
       "1              douro                  NaN                NaN   \n",
       "2             oregon    willamette valley  willamette valley   \n",
       "3           michigan  lake michigan shore                NaN   \n",
       "4             oregon    willamette valley  willamette valley   \n",
       "\n",
       "          taster_name                                              title  \\\n",
       "0       kerin o'keefe                  nicosia 2013 vulka bianco  (etna)   \n",
       "1          roger voss      quinta dos avidagos 2011 avidagos red (douro)   \n",
       "2        paul gregutt      rainstorm 2013 pinot gris (willamette valley)   \n",
       "3  alexander peartree  st. julian 2013 reserve late harvest riesling ...   \n",
       "4        paul gregutt  sweet cheeks 2012 vintner's reserve wild child...   \n",
       "\n",
       "          variety               winery       y_variety         y_province  \n",
       "0     white blend              nicosia     white blend  sicily & sardinia  \n",
       "1  portuguese red  quinta dos avidagos  portuguese red              douro  \n",
       "2      pinot gris            rainstorm      pinot gris             oregon  \n",
       "3        riesling           st. julian        riesling              other  \n",
       "4      pinot noir         sweet cheeks      pinot noir             oregon  "
      ]
     },
     "execution_count": 106,
     "metadata": {},
     "output_type": "execute_result"
    }
   ],
   "source": [
    "data.head()"
   ]
  },
  {
   "cell_type": "code",
   "execution_count": 107,
   "metadata": {
    "collapsed": true
   },
   "outputs": [],
   "source": [
    "trainRaw = data.sample(n=100000, replace=False, random_state=1)\n",
    "test_val = data.drop(trainRaw.index)\n",
    "testRaw = test_val.sample(frac=0.5, replace=False, random_state=1)\n",
    "valRaw = test_val.drop(testRaw.index)"
   ]
  },
  {
   "cell_type": "code",
   "execution_count": 110,
   "metadata": {},
   "outputs": [],
   "source": [
    "trainRaw.to_json(\"train.json\",orient='records')\n",
    "testRaw.to_json(\"test.json\",orient='records')\n"
   ]
  },
  {
   "cell_type": "code",
   "execution_count": 2,
   "metadata": {},
   "outputs": [
    {
     "name": "stderr",
     "output_type": "stream",
     "text": [
      "Using TensorFlow backend.\n"
     ]
    },
    {
     "name": "stdout",
     "output_type": "stream",
     "text": [
      "Downloading data from https://s3.amazonaws.com/text-datasets/imdb.npz\n",
      "17465344/17464789 [==============================] - 4s 0us/step\n",
      "17473536/17464789 [==============================] - 4s 0us/step\n",
      "_________________________________________________________________\n",
      "Layer (type)                 Output Shape              Param #   \n",
      "=================================================================\n",
      "embedding_1 (Embedding)      (None, 500, 32)           160000    \n",
      "_________________________________________________________________\n",
      "lstm_1 (LSTM)                (None, 100)               53200     \n",
      "_________________________________________________________________\n",
      "dense_1 (Dense)              (None, 1)                 101       \n",
      "=================================================================\n",
      "Total params: 213,301\n",
      "Trainable params: 213,301\n",
      "Non-trainable params: 0\n",
      "_________________________________________________________________\n",
      "None\n",
      "Epoch 1/3\n",
      "25000/25000 [==============================] - 172s 7ms/step - loss: 0.5133 - acc: 0.7468\n",
      "Epoch 2/3\n",
      "25000/25000 [==============================] - 176s 7ms/step - loss: 0.3022 - acc: 0.8763\n",
      "Epoch 3/3\n",
      "25000/25000 [==============================] - 178s 7ms/step - loss: 0.2394 - acc: 0.9060\n",
      "Accuracy: 87.68%\n"
     ]
    }
   ],
   "source": [
    "import numpy\n",
    "from keras.datasets import imdb\n",
    "from keras.models import Sequential\n",
    "from keras.layers import Dense\n",
    "from keras.layers import LSTM\n",
    "from keras.layers.embeddings import Embedding\n",
    "from keras.preprocessing import sequence\n",
    "# fix random seed for reproducibility\n",
    "numpy.random.seed(7)\n",
    "# load the dataset but only keep the top n words, zero the rest\n",
    "top_words = 5000\n",
    "(X_train, y_train), (X_test, y_test) = imdb.load_data(num_words=top_words)\n",
    "# truncate and pad input sequences\n",
    "max_review_length = 500\n",
    "X_train = sequence.pad_sequences(X_train, maxlen=max_review_length)\n",
    "X_test = sequence.pad_sequences(X_test, maxlen=max_review_length)\n",
    "# create the model\n",
    "embedding_vecor_length = 32\n",
    "model = Sequential()\n",
    "model.add(Embedding(top_words, embedding_vecor_length, input_length=max_review_length))\n",
    "model.add(LSTM(100))\n",
    "model.add(Dense(1, activation='sigmoid'))\n",
    "model.compile(loss='binary_crossentropy', optimizer='adam', metrics=['accuracy'])\n",
    "print(model.summary())\n",
    "model.fit(X_train, y_train, epochs=3, batch_size=64)\n",
    "# Final evaluation of the model\n",
    "scores = model.evaluate(X_test, y_test, verbose=0)\n",
    "print(\"Accuracy: %.2f%%\" % (scores[1]*100))"
   ]
  },
  {
   "cell_type": "code",
   "execution_count": null,
   "metadata": {
    "collapsed": true
   },
   "outputs": [],
   "source": [
    "embedding_matrix = np.zeros((len(word_index) + 1, EMBEDDING_DIM))\n",
    "for word, i in word_index.items():\n",
    "    embedding_vector = embeddings_index.get(word)\n",
    "    if embedding_vector is not None:\n",
    "        # words not found in embedding index will be all-zeros.\n",
    "        embedding_matrix[i] = embedding_vector\n",
    "        \n"
   ]
  }
 ],
 "metadata": {
  "kernelspec": {
   "display_name": "Python 2",
   "language": "python",
   "name": "python2"
  },
  "language_info": {
   "codemirror_mode": {
    "name": "ipython",
    "version": 2
   },
   "file_extension": ".py",
   "mimetype": "text/x-python",
   "name": "python",
   "nbconvert_exporter": "python",
   "pygments_lexer": "ipython2",
   "version": "2.7.14"
  }
 },
 "nbformat": 4,
 "nbformat_minor": 2
}
