{
 "cells": [
  {
   "cell_type": "code",
   "execution_count": 79,
   "metadata": {
    "collapsed": true
   },
   "outputs": [],
   "source": [
    "import pandas as pd\n",
    "import numpy as np\n",
    "import unidecode\n",
    "import re"
   ]
  },
  {
   "cell_type": "code",
   "execution_count": 80,
   "metadata": {
    "collapsed": true
   },
   "outputs": [],
   "source": [
    "# Read in data, drop columns we don't plan to use\n",
    "data = pd.read_csv(\"data/winemag-data-130k-v2.csv\", encoding='utf-8')\n",
    "data.drop([data.columns[0], 'designation', 'taster_twitter_handle'], axis=1, inplace=True)"
   ]
  },
  {
   "cell_type": "code",
   "execution_count": 81,
   "metadata": {
    "collapsed": true
   },
   "outputs": [],
   "source": [
    "# Remove special characters, replacing them with their English counterparts. \n",
    "# Transform all text to lower case, remove non letters/whitespace\n",
    "def func(x):\n",
    "    try: \n",
    "        return unidecode.unidecode(x).lower() \n",
    "    except: \n",
    "        return x\n",
    "for col in data.columns:\n",
    "    data[col] = data[col].apply(func)\n",
    "data['description'] = data['description'].apply(lambda x: re.sub(\"[^a-z ]\",\"\", re.sub(\"-\", \" \", x))).apply(lambda x:\n",
    "                                                                                                        '<s> ' + x + ' </s>')"
   ]
  },
  {
   "cell_type": "code",
   "execution_count": 82,
   "metadata": {
    "collapsed": true
   },
   "outputs": [],
   "source": [
    "# Create output variable(s). Select only top 30 varietals/regions and classify others as 'other'\n",
    "chosen = list(data['variety'].value_counts()[0:30].index)\n",
    "def label_row(row):\n",
    "    if row['variety'] in chosen:\n",
    "        return row['variety']\n",
    "    return 'other'\n",
    "data['y_variety'] = data.apply (lambda row: label_row(row),axis=1)\n",
    "chosen = list(data['province'].value_counts()[0:30].index)\n",
    "def label_row(row):\n",
    "    if row['province'] in chosen:\n",
    "        return row['province']\n",
    "    return 'other'\n",
    "data['y_province'] = data.apply (lambda row: label_row(row),axis=1)"
   ]
  },
  {
   "cell_type": "code",
   "execution_count": 83,
   "metadata": {
    "collapsed": true
   },
   "outputs": [],
   "source": [
    "# Separate into test and training\n",
    "data = data.drop_duplicates()\n",
    "trainRaw = data.sample(n=100000, replace=False, random_state=1)\n",
    "test_val = data.drop(trainRaw.index)\n",
    "testRaw = test_val.sample(frac=0.5, replace=False, random_state=1)\n",
    "valRaw = test_val.drop(testRaw.index)"
   ]
  },
  {
   "cell_type": "code",
   "execution_count": 8,
   "metadata": {
    "collapsed": true
   },
   "outputs": [],
   "source": [
    "trainRaw.to_json(\"train.json\",orient='records')\n",
    "testRaw.to_json(\"test.json\",orient='records')"
   ]
  },
  {
   "cell_type": "markdown",
   "metadata": {},
   "source": [
    "### Create GloVe matrix"
   ]
  },
  {
   "cell_type": "code",
   "execution_count": null,
   "metadata": {
    "collapsed": true
   },
   "outputs": [],
   "source": [
    "from mittens import GloVe\n",
    "from mittens import Mittens\n",
    "import pandas as pd\n",
    "import nltk\n",
    "import csv\n",
    "import re\n",
    "import operator\n",
    "\n",
    "# Reading in data\n",
    "\n",
    "data = pd.read_json('train.json')\n",
    "descriptions = data['description']\n",
    "\n",
    "# Parsing each review\n",
    "\n",
    "reviews = []\n",
    "for d in descriptions:\n",
    "\twords = d.split()\n",
    "\twords.append(\"</s>\")\n",
    "\twords.insert(0, \"<s>\")\n",
    "\treviews.append(words)\n",
    "\n",
    "# Creating vocabulary\n",
    "\n",
    "vocab = {}\n",
    "for r in reviews:\n",
    "\tfor w in r:\n",
    "\t\tif w in vocab:\n",
    "\t\t\tvocab[w] += 1\n",
    "\t\telse:\n",
    "\t\t\tvocab[w] = 1\n",
    "\n",
    "sort = sorted(vocab.items(), key=operator.itemgetter(1), reverse=True)[:5000]\n",
    "top_5k = {}\n",
    "counter = 0\n",
    "for word, _ in sort:\n",
    "\ttop_5k[word] = counter\n",
    "\tcounter += 1\n",
    "\n",
    "np.save('5k_vocab_dict.npy', top_5k) \n",
    "\n",
    "# Initializing co dict\n",
    "\n",
    "co_dict = {}\n",
    "for r in reviews:\n",
    "    for i in range(len(r)):\n",
    "\t\tcurrWord = r[i]\n",
    "\n",
    "\t\tif currWord not in top_5k:\n",
    "\t\t\tcontinue\n",
    "\n",
    "\t\tfor other_i in range(-5, 6):\n",
    "\n",
    "\t\t\tif ((i + other_i) < 0) or ((i + other_i) >= len(r)) or (other_i == 0) or (r[i + other_i] not in top_5k):\n",
    "\t\t\t\tcontinue\n",
    "\n",
    "\t\t\totherWord = r[i + other_i]\n",
    "\t\t\tdist_weight = 1. / abs(other_i)\n",
    "\n",
    "\t\t\tif other_i < 0:\n",
    "\t\t\t\tif (otherWord, currWord) in co_dict:\n",
    "\t\t\t\t\tco_dict[(otherWord, currWord)] += dist_weight\n",
    "\t\t\t\telse:\n",
    "\t\t\t\t\tco_dict[(otherWord, currWord)] = dist_weight\n",
    "\n",
    "\t\t\telse:\n",
    "\t\t\t\tif (currWord, otherWord) in co_dict:\n",
    "\t\t\t\t\tco_dict[(currWord, otherWord)] += dist_weight\n",
    "\t\t\t\telse:\n",
    "\t\t\t\t\tco_dict[(currWord, otherWord)] = dist_weight\n",
    "\n",
    "# Creating co-occurance matrix\n",
    "\n",
    "co_matrix = np.zeros((5000, 5000))\n",
    "for word1, word2 in co_dict.keys():\n",
    "    co_matrix[top_5k[word1], top_5k[word2]] = co_dict[(word1, word2)]\n",
    "\n",
    "def glove2dict(glove_filename):\n",
    "    with open(glove_filename) as f:\n",
    "        reader = csv.reader(f, delimiter=' ', quoting=csv.QUOTE_NONE)\n",
    "        embed = {line[0]: np.array(list(map(float, line[1:])))\n",
    "                for line in reader}\n",
    "    return embed\n",
    "\n",
    "# Training GloVe\n",
    "\n",
    "original_embeddings = glove2dict(\"glove.6B/glove.6B.200d.txt\")\n",
    "vocab_array = vocab.keys()\n",
    "mittens_model = Mittens(n=200, max_iter=2000)\n",
    "new_embeddings = mittens_model.fit(co_matrix, vocab = top_5k.keys(), initial_embedding_dict = original_embeddings)\n",
    "\n",
    "np.save('GloVe_wine_5k.npy', new_embeddings) "
   ]
  },
  {
   "cell_type": "markdown",
   "metadata": {},
   "source": [
    "### Models"
   ]
  },
  {
   "cell_type": "code",
   "execution_count": 84,
   "metadata": {
    "collapsed": true
   },
   "outputs": [],
   "source": [
    "# Load glove matrix and convert to embedding format\n",
    "vectors = np.load(\"data/GloVe_wine_5k.npy\")\n",
    "words = np.load('data/5k_vocab_dict.npy').item()\n",
    "EMBEDDING_DIM = len(vectors[0])\n",
    "embedding_dict = {}\n",
    "for k,v in words.items():\n",
    "    embedding_dict[k] = vectors[v]"
   ]
  },
  {
   "cell_type": "code",
   "execution_count": 85,
   "metadata": {
    "collapsed": true
   },
   "outputs": [],
   "source": [
    "texts = list(trainRaw['description'])\n",
    "texts_val = list(valRaw['description'])\n",
    "texts_test = list(testRaw['description'])\n",
    "labels = list(trainRaw['y_variety'])"
   ]
  },
  {
   "cell_type": "code",
   "execution_count": 86,
   "metadata": {
    "collapsed": true
   },
   "outputs": [],
   "source": [
    "# Tokenize text and pad to make inputs uniform\n",
    "from keras.preprocessing.text import Tokenizer\n",
    "from keras.preprocessing.sequence import pad_sequences\n",
    "\n",
    "MAX_SEQUENCE_LENGTH=136\n",
    "\n",
    "tokenizer = Tokenizer(num_words=len(vectors), filters=[])\n",
    "tokenizer.fit_on_texts(texts)\n",
    "sequences = tokenizer.texts_to_sequences(texts)\n",
    "sequences_val = tokenizer.texts_to_sequences(texts_val)\n",
    "sequences_test = tokenizer.texts_to_sequences(texts_test)\n",
    "\n",
    "word_index = tokenizer.word_index\n",
    "data = pad_sequences(sequences, maxlen=MAX_SEQUENCE_LENGTH)\n",
    "data_val = pad_sequences(sequences_val, maxlen=MAX_SEQUENCE_LENGTH)\n",
    "data_test = pad_sequences(sequences_test, maxlen=MAX_SEQUENCE_LENGTH)"
   ]
  },
  {
   "cell_type": "code",
   "execution_count": 9,
   "metadata": {},
   "outputs": [
    {
     "data": {
      "text/plain": [
       "['/job:localhost/replica:0/task:0/device:GPU:0']"
      ]
     },
     "execution_count": 9,
     "metadata": {},
     "output_type": "execute_result"
    }
   ],
   "source": [
    "from keras import backend as K\n",
    "K.tensorflow_backend._get_available_gpus()"
   ]
  },
  {
   "cell_type": "code",
   "execution_count": 87,
   "metadata": {
    "collapsed": true
   },
   "outputs": [],
   "source": [
    "embedding_matrix = np.zeros((len(word_index) + 1, EMBEDDING_DIM))\n",
    "for word, i in word_index.items():\n",
    "    embedding_vector = embedding_dict.get(word)\n",
    "    if embedding_vector is not None:\n",
    "        # words not found in embedding index will be all-zeros.\n",
    "        embedding_matrix[i] = embedding_vector\n",
    "        "
   ]
  },
  {
   "cell_type": "code",
   "execution_count": 88,
   "metadata": {
    "collapsed": true
   },
   "outputs": [],
   "source": [
    "# Convert output variable into categorical representation\n",
    "from sklearn import preprocessing\n",
    "le = preprocessing.LabelEncoder()\n",
    "le.fit(list(trainRaw['y_variety']))\n",
    "labels = le.transform(trainRaw['y_variety'])\n",
    "labels_val = le.transform(valRaw['y_variety'])\n",
    "labels_test = le.transform(testRaw['y_variety'])\n",
    "keys = list(le.classes_)\n",
    "vals = le.transform(keys)\n",
    "labels_index = dict(zip(keys,vals))"
   ]
  },
  {
   "cell_type": "code",
   "execution_count": 89,
   "metadata": {
    "collapsed": true
   },
   "outputs": [],
   "source": [
    "from keras.layers import *\n",
    "from keras.models import Model\n",
    "from keras.utils import to_categorical\n",
    "embedding_layer = Embedding(len(word_index) + 1,\n",
    "                            EMBEDDING_DIM,\n",
    "                            weights=[embedding_matrix],\n",
    "                            input_length=MAX_SEQUENCE_LENGTH,\n",
    "                            trainable=False)\n",
    "\n",
    "sequence_input = Input(shape=(MAX_SEQUENCE_LENGTH,), dtype='int32')\n",
    "embedded_sequences = embedding_layer(sequence_input)\n",
    "\n",
    "encoding = to_categorical(labels)\n",
    "encoding_val = to_categorical(labels_val)\n",
    "encoding_test = to_categorical(labels_test)"
   ]
  },
  {
   "cell_type": "code",
   "execution_count": null,
   "metadata": {
    "collapsed": true
   },
   "outputs": [],
   "source": [
    "# LSTM Model\n",
    "from keras.layers import *\n",
    "from keras.models import Sequential\n",
    "from keras.optimizers import Adam\n",
    "encoding = to_categorical(labels)\n",
    "model = Sequential()\n",
    "model.add(embedding_layer)\n",
    "model.add(Bidirectional(LSTM(100)))\n",
    "model.add(Dense(100, activation='relu'))\n",
    "model.add(Dropout(0.3))\n",
    "model.add(Dense(30, activation='softmax'))\n",
    "opt = Adam(lr=0.001, beta_1=0.9, beta_2=0.999)\n",
    "model.compile(loss='categorical_crossentropy', optimizer=opt, metrics=['accuracy'])\n",
    "print(model.summary())\n",
    "model.fit(data, encoding, epochs=20, verbose=2, validation_data=(data_val_s, encoding_val_s), batch_size=250)\n",
    "model_json = model.to_json()\n",
    "with open(\"model_100_dense.json\", \"w\") as json_file:\n",
    "    json_file.write(model_json)\n",
    "# serialize weights to HDF5\n",
    "model.save_weights(\"model_100_dense.h5\")\n",
    "print(\"Saved model to disk\")"
   ]
  },
  {
   "cell_type": "code",
   "execution_count": 54,
   "metadata": {},
   "outputs": [
    {
     "name": "stdout",
     "output_type": "stream",
     "text": [
      "Loaded model from disk\n"
     ]
    }
   ],
   "source": [
    "import os\n",
    "from keras.models import model_from_json\n",
    "# load json and create model\n",
    "json_file = open('model_100_dense.json', 'r')\n",
    "loaded_model_json = json_file.read()\n",
    "json_file.close()\n",
    "loaded_model = model_from_json(loaded_model_json)\n",
    "# load weights into new model\n",
    "loaded_model.load_weights(\"model_100_dense.h5\")\n",
    "print(\"Loaded model from disk\")"
   ]
  },
  {
   "cell_type": "code",
   "execution_count": 55,
   "metadata": {},
   "outputs": [
    {
     "name": "stdout",
     "output_type": "stream",
     "text": [
      "acc: 63.64%\n"
     ]
    }
   ],
   "source": [
    "data_val_s = data_val[:-244,]\n",
    "encoding_val_s = encoding_val[:-244,]\n",
    "data_test_s = data_test[:-244,]\n",
    "encoding_test_s = encoding_test[:-244,]\n",
    "# evaluate loaded model on test data\n",
    "loaded_model.compile(loss='categorical_crossentropy', optimizer=opt, metrics=['accuracy'])\n",
    "score = loaded_model.evaluate(data_test_s, encoding_test_s, verbose=0, batch_size=250)\n",
    "print(\"%s: %.2f%%\" % (loaded_model.metrics_names[1], score[1]*100))"
   ]
  },
  {
   "cell_type": "code",
   "execution_count": 69,
   "metadata": {
    "collapsed": true
   },
   "outputs": [],
   "source": [
    "y_prob = loaded_model.predict(data_test_s, batch_size=250) \n",
    "y_classes = y_prob.argmax(axis=-1)"
   ]
  },
  {
   "cell_type": "code",
   "execution_count": 75,
   "metadata": {},
   "outputs": [
    {
     "data": {
      "text/plain": [
       "Text(0,0.5,'actual')"
      ]
     },
     "execution_count": 75,
     "metadata": {},
     "output_type": "execute_result"
    },
    {
     "data": {
      "image/png": "[encoded data removed]",
      "text/plain": [
       "<Figure size 432x288 with 1 Axes>"
      ]
     },
     "metadata": {},
     "output_type": "display_data"
    }
   ],
   "source": [
    "import matplotlib.pyplot as plt\n",
    "%matplotlib inline\n",
    "from sklearn.metrics import confusion_matrix\n",
    "plt.imshow(pd.crosstab(y_classes, labels_test[:-244]).apply(lambda r: r/r.sum(), axis=1))\n",
    "plt.title('Confusion Matrix')\n",
    "\n",
    "plt.xlabel('predicted')\n",
    "plt.ylabel('actual')"
   ]
  },
  {
   "cell_type": "code",
   "execution_count": 157,
   "metadata": {},
   "outputs": [
    {
     "data": {
      "text/plain": [
       "'<s> produced from vines that are up to  years old this is a firmly structured wine concentration and dry tannins come from some firm extraction the fruit though is ripe and juicy showing red berry flavors along with spice from the wood aging drink the wine from  </s>'"
      ]
     },
     "execution_count": 157,
     "metadata": {},
     "output_type": "execute_result"
    }
   ],
   "source": [
    "valRaw.iloc[pos]['description'].iloc[3]"
   ]
  },
  {
   "cell_type": "code",
   "execution_count": 21,
   "metadata": {},
   "outputs": [
    {
     "data": {
      "text/plain": [
       "{'bordeaux-style red blend': 0,\n",
       " 'bordeaux-style white blend': 1,\n",
       " 'cabernet franc': 2,\n",
       " 'cabernet sauvignon': 3,\n",
       " 'champagne blend': 4,\n",
       " 'chardonnay': 5,\n",
       " 'gamay': 6,\n",
       " 'gewurztraminer': 7,\n",
       " 'gruner veltliner': 8,\n",
       " 'malbec': 9,\n",
       " 'merlot': 10,\n",
       " 'nebbiolo': 11,\n",
       " 'other': 12,\n",
       " 'pinot grigio': 13,\n",
       " 'pinot gris': 14,\n",
       " 'pinot noir': 15,\n",
       " 'portuguese red': 16,\n",
       " 'portuguese white': 17,\n",
       " 'red blend': 18,\n",
       " 'rhone-style red blend': 19,\n",
       " 'riesling': 20,\n",
       " 'rose': 21,\n",
       " 'sangiovese': 22,\n",
       " 'sauvignon blanc': 23,\n",
       " 'shiraz': 24,\n",
       " 'sparkling blend': 25,\n",
       " 'syrah': 26,\n",
       " 'tempranillo': 27,\n",
       " 'viognier': 28,\n",
       " 'white blend': 29,\n",
       " 'zinfandel': 30}"
      ]
     },
     "execution_count": 21,
     "metadata": {},
     "output_type": "execute_result"
    }
   ],
   "source": [
    "labels_index"
   ]
  },
  {
   "cell_type": "code",
   "execution_count": null,
   "metadata": {
    "collapsed": true
   },
   "outputs": [],
   "source": []
  }
 ],
 "metadata": {
  "kernelspec": {
   "display_name": "Python 2",
   "language": "python",
   "name": "python2"
  },
  "language_info": {
   "codemirror_mode": {
    "name": "ipython",
    "version": 2
   },
   "file_extension": ".py",
   "mimetype": "text/x-python",
   "name": "python",
   "nbconvert_exporter": "python",
   "pygments_lexer": "ipython2",
   "version": "2.7.14"
  }
 },
 "nbformat": 4,
 "nbformat_minor": 2
}
